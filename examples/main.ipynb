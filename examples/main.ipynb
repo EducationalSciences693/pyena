{
 "cells": [
  {
   "cell_type": "code",
   "execution_count": 1,
   "id": "7300f406-4768-4ab0-b442-3c8be425e1f0",
   "metadata": {},
   "outputs": [],
   "source": [
    "import sys\n",
    "sys.path.append(\"..\")\n",
    "\n",
    "from pyena import *"
   ]
  },
  {
   "cell_type": "code",
   "execution_count": 2,
   "id": "b3111bbb-d6e7-415b-bdcd-8c0fed2e0ad0",
   "metadata": {},
   "outputs": [],
   "source": [
    "model = ENA()"
   ]
  },
  {
   "cell_type": "code",
   "execution_count": null,
   "id": "9106ea83-2c43-49f4-b0be-f2d74b83f912",
   "metadata": {},
   "outputs": [],
   "source": []
  }
 ],
 "metadata": {
  "kernelspec": {
   "display_name": "Python 3 (ipykernel)",
   "language": "python",
   "name": "python3"
  },
  "language_info": {
   "codemirror_mode": {
    "name": "ipython",
    "version": 3
   },
   "file_extension": ".py",
   "mimetype": "text/x-python",
   "name": "python",
   "nbconvert_exporter": "python",
   "pygments_lexer": "ipython3",
   "version": "3.7.12"
  }
 },
 "nbformat": 4,
 "nbformat_minor": 5
}
